{
 "cells": [
  {
   "cell_type": "code",
   "execution_count": null,
   "metadata": {},
   "outputs": [],
   "source": [
    "\n",
    "\n"
   ]
  },
  {
   "cell_type": "raw",
   "metadata": {},
   "source": [
    "def runModel(data, syndata, model, modname, setname):\n",
    "    print(f'\\nRunning {modname} on {setname}')\n",
    "    print(f'Percent NaN in synthetic data:\\n{syndata.isna().sum()/syndata.shape[0]}')\n",
    "    X = pd.get_dummies(data.iloc[:,:-1])#data.iloc[:,:-1].copy()\n",
    "    y = data.iloc[:,-1].copy()\n",
    "\n",
    "    from sklearn.linear_model import LogisticRegression\n",
    "#     model=LogisticRegression(n_jobs=-1)\n",
    "\n",
    "    from sklearn.model_selection import cross_val_score\n",
    "    cv_score = cross_val_score(model, X, y, cv=10, n_jobs=-1).mean()\n",
    "    \n",
    "    print(f'\\nOriginal: {cv_score:.3f}')\n",
    "\n",
    "    X_syn = pd.get_dummies(syndata.iloc[:,:-1])#syndata.iloc[:,:-1].copy()\n",
    "    y_syn = syndata.iloc[:,-1].copy()\n",
    "    \n",
    "    from sklearn.model_selection import cross_val_score\n",
    "    cv_score=cross_val_score(model, X_syn, y_syn, cv=10, n_jobs=-1).mean()\n",
    "\n",
    "    print(f'Syndthetic: {cv_score:.3f}')\n",
    "\n",
    "    intersection = list(set(X).intersection(set(X_syn.columns)))\n",
    "    \n",
    "    model.fit(X_syn[intersection], y_syn)\n",
    "\n",
    "    from sklearn import metrics\n",
    "    \n",
    "    acc=metrics.accuracy_score(y, model.predict(X[intersection]))\n",
    "    print(f'Original on synthetic model: {acc:.3f}')\n",
    "    print(f'\\nTarget samples\\n{y_syn.sample(5)}\\n{y.sample(5)}')\n",
    "    print('*'*50)\n",
    "    \n",
    "    return acc\n"
   ]
  },
  {
   "cell_type": "code",
   "execution_count": 1,
   "metadata": {},
   "outputs": [],
   "source": [
    "def runModel(data, syndata, model, modname, setname, verbose=True):\n",
    "    import numpy as np\n",
    "    if verbose: print(f'\\nRunning {modname} on {setname}')\n",
    "    if verbose: print(f'Percent NaN in synthetic data:\\n{syndata.isna().sum()/syndata.shape[0]}')\n",
    "    temp=syndata.shape[0]\n",
    "    syndata = syndata.dropna()\n",
    "    if verbose: print(f'Dropped {(temp-syndata.shape[0])/temp:.2f}')\n",
    "    X = pd.get_dummies(data.iloc[:,:-1])#data.iloc[:,:-1].copy()\n",
    "    y = data.iloc[:,-1].copy()\n",
    "\n",
    "    from sklearn.linear_model import LogisticRegression\n",
    "#     model=LogisticRegression(n_jobs=-1)\n",
    "\n",
    "    from sklearn.model_selection import cross_val_score\n",
    "    cv_score = cross_val_score(model, X, y, cv=10, n_jobs=-1).mean()\n",
    "    \n",
    "    if verbose: print(f'\\nOriginal: {cv_score:.3f}')\n",
    "\n",
    "    X_syn = pd.get_dummies(syndata.iloc[:,:-1])#syndata.iloc[:,:-1].copy()\n",
    "    y_syn = syndata.iloc[:,-1].copy()\n",
    "    \n",
    "    from sklearn.model_selection import cross_val_score\n",
    "    cv_score=cross_val_score(model, X_syn, y_syn, cv=10, n_jobs=-1).mean()\n",
    "\n",
    "    if verbose: print(f'Synthetic: {cv_score:.3f}')\n",
    "\n",
    "    intersection = list(set(X).intersection(set(X_syn.columns)))\n",
    "    \n",
    "    model.fit(X_syn[intersection], y_syn)\n",
    "\n",
    "    from sklearn import metrics\n",
    "    \n",
    "    acc=np.array([metrics.accuracy_score(y, model.predict(X[intersection])) for i in range (10)]).mean()\n",
    "    if verbose: print(f'Original on synthetic model: {acc:.3f}')\n",
    "    if verbose: print(f'\\nTarget samples\\n{y_syn.sample(5)}\\n{y.sample(5)}')\n",
    "    if verbose: print('*'*50)\n",
    "    \n",
    "    return acc\n"
   ]
  },
  {
   "cell_type": "code",
   "execution_count": 2,
   "metadata": {},
   "outputs": [],
   "source": [
    "def runModelSimple(data, syndata, model, modname, setname, verbose=True):\n",
    "    import numpy as np\n",
    "    if verbose: print(f'\\nRunning {modname} on {setname}')\n",
    "    if verbose: print(f'Percent NaN in synthetic data:\\n{syndata.isna().sum()/syndata.shape[0]}')\n",
    "    temp=syndata.shape[0]\n",
    "    syndata = syndata.dropna()\n",
    "    dropped=(temp-syndata.shape[0])/temp\n",
    "    if verbose: print(f'Dropped {dropped:.2f}')\n",
    "    \n",
    "    if dropped == 1.0: return 0\n",
    "    \n",
    "    X = pd.get_dummies(data.iloc[:,:-1])#data.iloc[:,:-1].copy()\n",
    "    y = data.iloc[:,-1].copy()\n",
    "\n",
    "    X_syn = pd.get_dummies(syndata.iloc[:,:-1])#syndata.iloc[:,:-1].copy()\n",
    "    y_syn = syndata.iloc[:,-1].copy()\n",
    "    \n",
    "    intersection = list(set(X).intersection(set(X_syn.columns)))\n",
    "    \n",
    "    if verbose: \n",
    "        print(f'\\nSynthetic-orgininal intersection length is {len(intersection)}, original is {X.shape[1]}')\n",
    "    \n",
    "    model.fit(X_syn[intersection], y_syn)\n",
    "\n",
    "    from sklearn import metrics\n",
    "    \n",
    "    acc_dp = metrics.accuracy_score(y, model.predict(X[intersection]))\n",
    "    if verbose: print(f'Original on synthetic model: {acc_dp:.3f}')\n",
    "    if verbose: print('*'*50)\n",
    "    \n",
    "    return acc_dp"
   ]
  },
  {
   "cell_type": "raw",
   "metadata": {},
   "source": [
    "import pandas as pd\n",
    "import numpy as np\n",
    "\n",
    "data=pd.read_csv('car.data', header=None)\n",
    "\n",
    "print(data.sample(5))\n",
    "\n",
    "import jtree_refactored as jt\n",
    "\n",
    "import ipyparallel as ipp\n",
    "c = ipp.Client()\n",
    "print(f'Running on {c.ids} cores')\n",
    "v = c[:]\n",
    "\n",
    "\n",
    "result_table, tree_marginals = jt.JTree(data, v, verbose=False).synthesize()\n",
    "\n",
    "print(result_table.sample(10))\n",
    "\n",
    "from sklearn.neural_network import MLPClassifier\n",
    "model = MLPClassifier(random_state=42, max_iter=1000)\n",
    "runModel(data, result_table, model, 'MLP', 'cars')"
   ]
  },
  {
   "cell_type": "raw",
   "metadata": {},
   "source": [
    "data=pd.read_csv('adult.data', header=None)\n",
    "\n",
    "from sklearn.preprocessing import KBinsDiscretizer  \n",
    "disc = KBinsDiscretizer(n_bins=20, encode='ordinal', strategy='uniform')\n",
    "arr=disc.fit_transform(data[[2, 10, 11, 12]])\n",
    "discrete_subset=pd.DataFrame(arr)\n",
    "data_discrete=data.copy()\n",
    "data_discrete[[2, 10, 11, 12]]=discrete_subset.astype(int)\n",
    "data_discrete.iloc[:,-1]=pd.get_dummies(data.iloc[:,-1]).iloc[:,-2]\n",
    "print(data_discrete.sample(10))\n",
    "\n",
    "\n",
    "result_table, tree_marginals = jt.JTree(data_discrete, v, verbose=True).synthesize()\n",
    "\n",
    "print(f'result is\\n{result_table.sample(10)}')\n",
    "\n",
    "# from sklearn.svm import SVC\n",
    "# runModel(data_discrete, result_table, SVC(), 'svm', 'adult')\n",
    "from sklearn.neural_network import MLPClassifier\n",
    "runModel(data_discrete, result_table, MLPClassifier(solver='lbfgs', alpha=1e-5, hidden_layer_sizes=(5, 2), random_state=1), 'MLP', 'adult')"
   ]
  },
  {
   "cell_type": "raw",
   "metadata": {},
   "source": [
    "data=pd.read_csv('adult.data', header=None)\n",
    "\n",
    "from sklearn.preprocessing import KBinsDiscretizer  \n",
    "disc = KBinsDiscretizer(n_bins=20, encode='ordinal', strategy='uniform')\n",
    "arr=disc.fit_transform(data[[2, 10, 11, 12]])\n",
    "discrete_subset=pd.DataFrame(arr)\n",
    "data_discrete=data.copy()\n",
    "data_discrete[[2, 10, 11, 12]]=discrete_subset.astype(int)\n",
    "data_discrete.iloc[:,-1]=pd.get_dummies(data.iloc[:,-1]).iloc[:,-2]\n",
    "print(data_discrete.sample(10))\n",
    "\n",
    "import jtree_refactored_procedural as jt\n",
    "result_table, tree_marginals = jt.JTree(data_discrete, v, verbose=True).synthesize()\n",
    "\n",
    "print(f'result is\\n{result_table.sample(10)}')\n",
    "\n",
    "# from sklearn.svm import SVC\n",
    "# runModel(data_discrete, result_table, SVC(), 'svm', 'adult')\n",
    "from sklearn.neural_network import MLPClassifier\n",
    "runModel(data_discrete, result_table, MLPClassifier(solver='lbfgs', alpha=1e-5, hidden_layer_sizes=(5, 2), random_state=1), 'MLP', 'adult')"
   ]
  },
  {
   "cell_type": "code",
   "execution_count": 3,
   "metadata": {},
   "outputs": [
    {
     "name": "stderr",
     "output_type": "stream",
     "text": [
      "/home/krudavsk/anaconda3/lib/python3.7/site-packages/pandas/core/ops/array_ops.py:253: FutureWarning: elementwise comparison failed; returning scalar instead, but in the future will perform elementwise comparison\n",
      "  res_values = method(rvalues)\n"
     ]
    },
    {
     "name": "stdout",
     "output_type": "stream",
     "text": [
      "Training\n",
      "       0                  1   2           3   4                    5   \\\n",
      "27500  33   Self-emp-not-inc   0     HS-grad   9   Married-civ-spouse   \n",
      "28585  29            Private   3     HS-grad   9   Married-civ-spouse   \n",
      "20195  44   Self-emp-not-inc   0   Bachelors  13             Divorced   \n",
      "11593  48            Private   1     HS-grad   9             Divorced   \n",
      "13727  50            Private   5        11th   7              Widowed   \n",
      "\n",
      "                       6               7       8        9   10  11  12  \\\n",
      "27500    Transport-moving         Husband   White     Male   0   0  12   \n",
      "28585   Machine-op-inspct         Husband   White     Male   0   0   9   \n",
      "20195     Exec-managerial   Not-in-family   White     Male   0   0   7   \n",
      "11593    Transport-moving   Not-in-family   White     Male   0   0   7   \n",
      "13727   Machine-op-inspct   Not-in-family   White   Female   0   0   7   \n",
      "\n",
      "                   13  14  \n",
      "27500   United-States   1  \n",
      "28585   United-States   1  \n",
      "20195   United-States   1  \n",
      "11593   United-States   1  \n",
      "13727   United-States   1  \n",
      "Testing\n",
      "       0                  1   2              3   4               5   \\\n",
      "150    28            Private   1        HS-grad   9   Never-married   \n",
      "7073   45   Self-emp-not-inc   1        Masters  14        Divorced   \n",
      "320    22          State-gov   3   Some-college  10   Never-married   \n",
      "23519  76          Local-gov   4        HS-grad   9         Widowed   \n",
      "20300  38            Private   1           11th   7        Divorced   \n",
      "\n",
      "                       6               7                    8        9   10  \\\n",
      "150       Exec-managerial   Not-in-family   Asian-Pac-Islander   Female   0   \n",
      "7073       Prof-specialty   Not-in-family                White   Female   0   \n",
      "320       Protective-serv       Own-child                Black   Female   0   \n",
      "23519       Other-service   Not-in-family                White   Female   0   \n",
      "20300   Machine-op-inspct       Unmarried                Black   Female   0   \n",
      "\n",
      "       11  12              13  14  \n",
      "150     0   7         England   1  \n",
      "7073    0   2   United-States   1  \n",
      "320     0   7   United-States   1  \n",
      "23519   0   2   United-States   1  \n",
      "20300   0  10   United-States   1  \n",
      "------------------------- 0 -------------------------\n"
     ]
    },
    {
     "name": "stderr",
     "output_type": "stream",
     "text": [
      "/home/krudavsk/syndata/jtree_refactored_procedural.py:252: UserWarning: Domains not provided. Privacy leak!\n",
      "  warnings.warn(\"Domains not provided. Privacy leak!\", UserWarning)\n",
      "/home/krudavsk/anaconda3/lib/python3.7/site-packages/pgmpy/models/MarkovModel.py:447: RuntimeWarning: invalid value encountered in long_scalars\n",
      "  S_by_C = {key: S[key] / C[key] for key in S}\n"
     ]
    },
    {
     "name": "stdout",
     "output_type": "stream",
     "text": [
      "\n",
      "Synthesis execution time: 92.0 s\n",
      "\n",
      "------------------------- 1 -------------------------\n"
     ]
    },
    {
     "name": "stderr",
     "output_type": "stream",
     "text": [
      "/home/krudavsk/syndata/jtree_refactored_procedural.py:252: UserWarning: Domains not provided. Privacy leak!\n",
      "  warnings.warn(\"Domains not provided. Privacy leak!\", UserWarning)\n",
      "/home/krudavsk/anaconda3/lib/python3.7/site-packages/pgmpy/models/MarkovModel.py:447: RuntimeWarning: invalid value encountered in long_scalars\n",
      "  S_by_C = {key: S[key] / C[key] for key in S}\n"
     ]
    },
    {
     "name": "stdout",
     "output_type": "stream",
     "text": [
      "\n",
      "Synthesis execution time: 77.0 s\n",
      "\n",
      "------------------------- 2 -------------------------\n"
     ]
    },
    {
     "name": "stderr",
     "output_type": "stream",
     "text": [
      "/home/krudavsk/syndata/jtree_refactored_procedural.py:252: UserWarning: Domains not provided. Privacy leak!\n",
      "  warnings.warn(\"Domains not provided. Privacy leak!\", UserWarning)\n",
      "/home/krudavsk/anaconda3/lib/python3.7/site-packages/pgmpy/models/MarkovModel.py:447: RuntimeWarning: invalid value encountered in long_scalars\n",
      "  S_by_C = {key: S[key] / C[key] for key in S}\n"
     ]
    },
    {
     "name": "stdout",
     "output_type": "stream",
     "text": [
      "\n",
      "Synthesis execution time: 77.0 s\n",
      "\n",
      "------------------------- 3 -------------------------\n"
     ]
    },
    {
     "name": "stderr",
     "output_type": "stream",
     "text": [
      "/home/krudavsk/syndata/jtree_refactored_procedural.py:252: UserWarning: Domains not provided. Privacy leak!\n",
      "  warnings.warn(\"Domains not provided. Privacy leak!\", UserWarning)\n",
      "/home/krudavsk/anaconda3/lib/python3.7/site-packages/pgmpy/models/MarkovModel.py:447: RuntimeWarning: invalid value encountered in long_scalars\n",
      "  S_by_C = {key: S[key] / C[key] for key in S}\n"
     ]
    },
    {
     "name": "stdout",
     "output_type": "stream",
     "text": [
      "\n",
      "Synthesis execution time: 62.0 s\n",
      "\n",
      "------------------------- 4 -------------------------\n"
     ]
    },
    {
     "name": "stderr",
     "output_type": "stream",
     "text": [
      "/home/krudavsk/syndata/jtree_refactored_procedural.py:252: UserWarning: Domains not provided. Privacy leak!\n",
      "  warnings.warn(\"Domains not provided. Privacy leak!\", UserWarning)\n",
      "/home/krudavsk/anaconda3/lib/python3.7/site-packages/pgmpy/models/MarkovModel.py:447: RuntimeWarning: invalid value encountered in long_scalars\n",
      "  S_by_C = {key: S[key] / C[key] for key in S}\n"
     ]
    },
    {
     "name": "stdout",
     "output_type": "stream",
     "text": [
      "\n",
      "Synthesis execution time: 101.0 s\n",
      "\n",
      "Time : 411\n"
     ]
    }
   ],
   "source": [
    "import time\n",
    "start = time.time()\n",
    "import pandas as pd\n",
    "data=pd.read_csv('adult.data', header=None)\n",
    "\n",
    "data.drop(data[data.eq(' ?').any(1)].index, inplace=True)\n",
    "data.reset_index(inplace=True, drop=True)\n",
    "\n",
    "from sklearn.preprocessing import KBinsDiscretizer  \n",
    "disc = KBinsDiscretizer(n_bins=20, encode='ordinal', strategy='uniform')\n",
    "arr=disc.fit_transform(data[[2, 10, 11, 12]])\n",
    "discrete_subset=pd.DataFrame(arr)\n",
    "data_discrete=data.copy()\n",
    "data_discrete[[2, 10, 11, 12]]=discrete_subset.astype(int)\n",
    "data_discrete.iloc[:,-1]=pd.get_dummies(data.iloc[:,-1]).iloc[:,-2]\n",
    "\n",
    "from sklearn.model_selection import train_test_split\n",
    "X, y = train_test_split(data_discrete)\n",
    "\n",
    "\n",
    "print(f'Training\\n{X.sample(5)}')\n",
    "print(f'Testing\\n{y.sample(5)}')\n",
    "\n",
    "res=[]\n",
    "for i in range(5):    \n",
    "    print('-'*25,i,'-'*25)\n",
    "\n",
    "    import jtree_refactored_procedural as jt\n",
    "    \n",
    "    try:\n",
    "        result_table, tree_marginals = jt.JTree(X, verbose=False).synthesize()\n",
    "\n",
    "        res.append((result_table, tree_marginals))\n",
    "    except Exception as ex:\n",
    "        raise\n",
    "        print(ex)\n",
    "        print('*'*40,'FAILED','*'*40)\n",
    "        res.append(\"FAILED\")\n",
    "    finally:\n",
    "        pass\n",
    "print(f'Time : {round(time.time()-start)}')"
   ]
  },
  {
   "cell_type": "code",
   "execution_count": 4,
   "metadata": {},
   "outputs": [
    {
     "data": {
      "image/png": "[encoded data removed]",
      "text/plain": [
       "<Figure size 432x288 with 1 Axes>"
      ]
     },
     "metadata": {
      "needs_background": "light"
     },
     "output_type": "display_data"
    },
    {
     "name": "stdout",
     "output_type": "stream",
     "text": [
      "\n",
      "Running MLP on adult\n",
      "Percent NaN in synthetic data:\n",
      "0     0.029221\n",
      "1     0.009283\n",
      "2     0.001017\n",
      "3     0.040582\n",
      "4     0.012953\n",
      "5     0.024888\n",
      "6     0.000000\n",
      "7     0.000000\n",
      "8     0.000000\n",
      "9     0.000000\n",
      "10    0.051412\n",
      "11    0.051412\n",
      "12    0.051412\n",
      "13    0.037929\n",
      "14    0.000000\n",
      "dtype: float64\n",
      "Dropped 0.12\n",
      "\n",
      "Synthetic-orgininal intersection length is 60, original is 103\n",
      "Original on synthetic model: 0.822\n",
      "**************************************************\n",
      "\n",
      "Running MLP on adult\n",
      "Percent NaN in synthetic data:\n",
      "0     0.056231\n",
      "1     0.030635\n",
      "2     0.029574\n",
      "3     0.000000\n",
      "4     0.000000\n",
      "5     0.031254\n",
      "6     0.000000\n",
      "7     0.031254\n",
      "8     0.029574\n",
      "9     0.000000\n",
      "10    0.029574\n",
      "11    0.029574\n",
      "12    0.029574\n",
      "13    0.029574\n",
      "14    0.029574\n",
      "dtype: float64\n",
      "Dropped 0.06\n",
      "\n",
      "Synthetic-orgininal intersection length is 89, original is 103\n",
      "Original on synthetic model: 0.820\n",
      "**************************************************\n",
      "\n",
      "Running MLP on adult\n",
      "Percent NaN in synthetic data:\n",
      "0     0.009062\n",
      "1     0.019584\n",
      "2     0.018302\n",
      "3     0.000000\n",
      "4     0.000000\n",
      "5     0.009062\n",
      "6     0.018478\n",
      "7     0.009062\n",
      "8     0.014942\n",
      "9     0.018302\n",
      "10    0.024667\n",
      "11    0.010919\n",
      "12    0.019451\n",
      "13    0.010123\n",
      "14    0.000000\n",
      "dtype: float64\n",
      "Dropped 0.05\n",
      "\n",
      "Synthetic-orgininal intersection length is 88, original is 103\n",
      "Original on synthetic model: 0.806\n",
      "**************************************************\n",
      "\n",
      "Running MLP on adult\n",
      "Percent NaN in synthetic data:\n",
      "0     0.023651\n",
      "1     0.015119\n",
      "2     0.008841\n",
      "3     0.005216\n",
      "4     0.005216\n",
      "5     0.004111\n",
      "6     0.005570\n",
      "7     0.004111\n",
      "8     0.000044\n",
      "9     0.000619\n",
      "10    0.000619\n",
      "11    0.004111\n",
      "12    0.000619\n",
      "13    0.005040\n",
      "14    0.000619\n",
      "dtype: float64\n",
      "Dropped 0.06\n",
      "\n",
      "Synthetic-orgininal intersection length is 79, original is 103\n",
      "Original on synthetic model: 0.824\n",
      "**************************************************\n",
      "\n",
      "Running MLP on adult\n",
      "Percent NaN in synthetic data:\n",
      "0     0.053667\n",
      "1     0.000000\n",
      "2     0.013660\n",
      "3     0.073825\n",
      "4     0.058176\n",
      "5     0.031431\n",
      "6     0.044074\n",
      "7     0.031431\n",
      "8     0.000044\n",
      "9     0.007825\n",
      "10    0.007825\n",
      "11    0.007825\n",
      "12    0.007825\n",
      "13    0.000044\n",
      "14    0.007825\n",
      "dtype: float64\n",
      "Dropped 0.09\n",
      "\n",
      "Synthetic-orgininal intersection length is 85, original is 103\n",
      "Original on synthetic model: 0.831\n",
      "**************************************************\n",
      "Mean acc for 5 runs is 0.8204482164169209\n"
     ]
    }
   ],
   "source": [
    "tables=[mat[0] for mat in res if not isinstance(mat[0],str)]\n",
    "nans = [mat.isna().values.sum()/(mat.shape[0]*mat.shape[1]) for mat in tables]\n",
    "\n",
    "import numpy as np\n",
    "import matplotlib.pyplot as plt\n",
    "\n",
    "plt.scatter(range(len(nans)),nans)\n",
    "plt.title('Percent NaNs in sets')\n",
    "plt.show()\n",
    "\n",
    "print(f'Mean NaN is {np.array(nans).mean()}')\n",
    "\n",
    "from sklearn.neural_network import MLPClassifier\n",
    "model = MLPClassifier(max_iter=500)\n",
    "\n",
    "# from sklearn.model_selection import cross_val_score\n",
    "# acc_raw = cross_val_score(model, X, y, cv=10).mean()\n",
    "\n",
    "accs=[runModelSimple(y, table, model, 'MLP', 'adult') for table in tables]\n",
    "print(f'Mean acc for {len(accs)} runs is {np.array(accs).mean()}')\n",
    "\n",
    "X = pd.get_dummies(data_discrete.iloc[:,:-1])#data.iloc[:,:-1].copy()\n",
    "y = data_discrete.iloc[:,-1].copy()"
   ]
  },
  {
   "cell_type": "code",
   "execution_count": 5,
   "metadata": {},
   "outputs": [
    {
     "data": {
      "text/plain": [
       "0.8204482164169209"
      ]
     },
     "execution_count": 5,
     "metadata": {},
     "output_type": "execute_result"
    }
   ],
   "source": [
    "np.array(accs).mean()"
   ]
  },
  {
   "cell_type": "code",
   "execution_count": 6,
   "metadata": {},
   "outputs": [
    {
     "name": "stderr",
     "output_type": "stream",
     "text": [
      "/home/krudavsk/syndata/jtree_refactored_procedural.py:252: UserWarning: Domains not provided. Privacy leak!\n",
      "  warnings.warn(\"Domains not provided. Privacy leak!\", UserWarning)\n",
      "/home/krudavsk/anaconda3/lib/python3.7/site-packages/pgmpy/models/MarkovModel.py:447: RuntimeWarning: invalid value encountered in long_scalars\n",
      "  S_by_C = {key: S[key] / C[key] for key in S}\n"
     ]
    },
    {
     "name": "stdout",
     "output_type": "stream",
     "text": [
      "\n",
      "Synthesis execution time: 7.0 s\n",
      "\n",
      "Dropped 0.06\n",
      "NaNs : 0.05\n"
     ]
    },
    {
     "name": "stderr",
     "output_type": "stream",
     "text": [
      "/home/krudavsk/syndata/jtree_refactored_procedural.py:252: UserWarning: Domains not provided. Privacy leak!\n",
      "  warnings.warn(\"Domains not provided. Privacy leak!\", UserWarning)\n",
      "/home/krudavsk/anaconda3/lib/python3.7/site-packages/pgmpy/models/MarkovModel.py:447: RuntimeWarning: invalid value encountered in long_scalars\n",
      "  S_by_C = {key: S[key] / C[key] for key in S}\n"
     ]
    },
    {
     "name": "stdout",
     "output_type": "stream",
     "text": [
      "\n",
      "Synthesis execution time: 4.0 s\n",
      "\n",
      "Dropped 0.11\n",
      "NaNs : 0.05\n",
      "\n",
      "avg blind row drop 0.09\n",
      "med blind row drop 0.09\n",
      "avg nans points 0.05\n",
      "med nans points 0.05\n",
      "Time : 12\n"
     ]
    }
   ],
   "source": [
    "%reset -f\n",
    "\n",
    "    \n",
    "import numpy as np\n",
    "import time\n",
    "start = time.time()\n",
    "import pandas as pd\n",
    "data=pd.read_csv('car.data', header=None)\n",
    "\n",
    "data.drop(data[data.eq(' ?').any(1)].index, inplace=True)\n",
    "data.reset_index(inplace=True, drop=True)\n",
    "data_discrete=data\n",
    "\n",
    "drops=[]\n",
    "nans=[]\n",
    "\n",
    "for i in range(2):   \n",
    "#     IPython.kernel.manager.KernelManager.restart_kernel()\n",
    "    import jtree_refactored_procedural as jt\n",
    "    try:\n",
    "        result_table, tree_marginals = jt.JTree(data_discrete, verbose=False).synthesize()\n",
    "    #     print(f'Percent NaN in synthetic data:\\n{result_table.isna().sum()/result_table.shape[0]}')\n",
    "        temp=result_table.shape[0]\n",
    "        numpoints = result_table.shape[0]*result_table.shape[1]\n",
    "        nans.append(result_table.isna().values.sum())\n",
    "        result_table = result_table.dropna()\n",
    "        dropped=(temp-result_table.shape[0])/temp\n",
    "        print(f'Dropped {dropped:.2f}')\n",
    "        print(f'NaNs : {nans[-1]/numpoints:.2f}')\n",
    "        drops.append(dropped)\n",
    "    finally:\n",
    "        del jt\n",
    "        \n",
    "        \n",
    "\n",
    "print(f'\\navg blind row drop {np.array(drops).mean():.2f}')\n",
    "print(f'med blind row drop {np.median(drops):.2f}')\n",
    "print(f'avg nans points {np.array(nans).mean()/numpoints:.2f}')\n",
    "print(f'med nans points {np.median(nans)/numpoints:.2f}')\n",
    "print(f'Time : {round(time.time()-start)}')"
   ]
  },
  {
   "cell_type": "code",
   "execution_count": 7,
   "metadata": {},
   "outputs": [
    {
     "name": "stderr",
     "output_type": "stream",
     "text": [
      "/home/krudavsk/syndata/jtree_refactored_procedural.py:252: UserWarning: Domains not provided. Privacy leak!\n",
      "  warnings.warn(\"Domains not provided. Privacy leak!\", UserWarning)\n"
     ]
    },
    {
     "name": "stdout",
     "output_type": "stream",
     "text": [
      "\n",
      "Synthesis execution time: 2.0 s\n",
      "\n",
      "Dropped 0.04\n",
      "NaNs : 0.01\n"
     ]
    },
    {
     "name": "stderr",
     "output_type": "stream",
     "text": [
      "/home/krudavsk/syndata/jtree_refactored_procedural.py:252: UserWarning: Domains not provided. Privacy leak!\n",
      "  warnings.warn(\"Domains not provided. Privacy leak!\", UserWarning)\n",
      "/home/krudavsk/anaconda3/lib/python3.7/site-packages/pgmpy/models/MarkovModel.py:447: RuntimeWarning: invalid value encountered in long_scalars\n",
      "  S_by_C = {key: S[key] / C[key] for key in S}\n"
     ]
    },
    {
     "name": "stdout",
     "output_type": "stream",
     "text": [
      "\n",
      "Synthesis execution time: 2.0 s\n",
      "\n",
      "Dropped 0.01\n",
      "NaNs : 0.00\n",
      "\n",
      "avg blind row drop 0.03\n",
      "med blind row drop 0.03\n",
      "avg nans points 0.01\n",
      "med nans points 0.01\n",
      "Time : 5\n"
     ]
    }
   ],
   "source": [
    "%run untitled.py"
   ]
  },
  {
   "cell_type": "code",
   "execution_count": 8,
   "metadata": {},
   "outputs": [
    {
     "data": {
      "text/plain": [
       "0.025462962962962965"
      ]
     },
     "execution_count": 8,
     "metadata": {},
     "output_type": "execute_result"
    }
   ],
   "source": [
    "np.median(drops)"
   ]
  },
  {
   "cell_type": "code",
   "execution_count": 11,
   "metadata": {},
   "outputs": [
    {
     "name": "stdout",
     "output_type": "stream",
     "text": [
      "Dataset Size: (20640, 9)\n",
      "Training\n",
      "        0    1    2    3    4    5    6    7    8    9   ...   35   36   37  \\\n",
      "11427  0.0  1.0  0.0  0.0  0.0  0.0  1.0  0.0  0.0  0.0  ...  0.0  0.0  0.0   \n",
      "233    0.0  1.0  0.0  0.0  0.0  0.0  0.0  0.0  0.0  1.0  ...  0.0  1.0  0.0   \n",
      "7003   0.0  1.0  0.0  0.0  0.0  0.0  0.0  0.0  1.0  0.0  ...  0.0  0.0  0.0   \n",
      "6264   0.0  1.0  0.0  0.0  0.0  0.0  0.0  0.0  1.0  0.0  ...  0.0  0.0  0.0   \n",
      "19379  0.0  1.0  0.0  0.0  0.0  1.0  0.0  0.0  0.0  0.0  ...  0.0  1.0  0.0   \n",
      "\n",
      "        38   39   40   41   42   43   44  \n",
      "11427  1.0  0.0  0.0  0.0  1.0  0.0  0.0  \n",
      "233    0.0  0.0  0.0  0.0  1.0  0.0  0.0  \n",
      "7003   1.0  0.0  0.0  1.0  0.0  0.0  0.0  \n",
      "6264   1.0  0.0  0.0  1.0  0.0  0.0  0.0  \n",
      "19379  0.0  0.0  0.0  1.0  0.0  0.0  0.0  \n",
      "\n",
      "[5 rows x 45 columns]\n",
      "Testing\n",
      "        0    1    2    3    4    5    6    7    8    9   ...   35   36   37  \\\n",
      "1408   1.0  0.0  0.0  0.0  0.0  0.0  1.0  0.0  0.0  0.0  ...  0.0  1.0  0.0   \n",
      "14046  1.0  0.0  0.0  0.0  0.0  0.0  0.0  1.0  0.0  0.0  ...  0.0  0.0  0.0   \n",
      "4584   1.0  0.0  0.0  0.0  0.0  0.0  0.0  0.0  0.0  1.0  ...  0.0  0.0  0.0   \n",
      "10930  1.0  0.0  0.0  0.0  0.0  0.0  1.0  0.0  0.0  0.0  ...  0.0  0.0  0.0   \n",
      "11114  0.0  1.0  0.0  0.0  0.0  0.0  0.0  1.0  0.0  0.0  ...  0.0  0.0  0.0   \n",
      "\n",
      "        38   39   40   41   42   43   44  \n",
      "1408   0.0  0.0  0.0  0.0  1.0  0.0  0.0  \n",
      "14046  1.0  0.0  0.0  1.0  0.0  0.0  0.0  \n",
      "4584   1.0  0.0  0.0  1.0  0.0  0.0  0.0  \n",
      "10930  1.0  0.0  0.0  1.0  0.0  0.0  0.0  \n",
      "11114  1.0  0.0  0.0  0.0  1.0  0.0  0.0  \n",
      "\n",
      "[5 rows x 45 columns]\n",
      "------------------------- 0 -------------------------\n"
     ]
    },
    {
     "name": "stderr",
     "output_type": "stream",
     "text": [
      "/home/krudavsk/syndata/jtree_refactored_procedural.py:252: UserWarning: Domains not provided. Privacy leak!\n",
      "  warnings.warn(\"Domains not provided. Privacy leak!\", UserWarning)\n",
      "/home/krudavsk/anaconda3/lib/python3.7/site-packages/pgmpy/models/MarkovModel.py:447: RuntimeWarning: invalid value encountered in long_scalars\n",
      "  S_by_C = {key: S[key] / C[key] for key in S}\n"
     ]
    },
    {
     "ename": "ValueError",
     "evalue": "maximum supported dimension for an ndarray is 32, found 36",
     "output_type": "error",
     "traceback": [
      "\u001b[0;31m---------------------------------------------------------------------------\u001b[0m",
      "\u001b[0;31mValueError\u001b[0m                                Traceback (most recent call last)",
      "\u001b[0;32m<ipython-input-11-9f8a326aad6a>\u001b[0m in \u001b[0;36m<module>\u001b[0;34m\u001b[0m\n\u001b[1;32m     31\u001b[0m \u001b[0;34m\u001b[0m\u001b[0m\n\u001b[1;32m     32\u001b[0m     \u001b[0;32mtry\u001b[0m\u001b[0;34m:\u001b[0m\u001b[0;34m\u001b[0m\u001b[0;34m\u001b[0m\u001b[0m\n\u001b[0;32m---> 33\u001b[0;31m         \u001b[0mresult_table\u001b[0m\u001b[0;34m,\u001b[0m \u001b[0mtree_marginals\u001b[0m \u001b[0;34m=\u001b[0m \u001b[0mjt\u001b[0m\u001b[0;34m.\u001b[0m\u001b[0mJTree\u001b[0m\u001b[0;34m(\u001b[0m\u001b[0mX\u001b[0m\u001b[0;34m,\u001b[0m \u001b[0mverbose\u001b[0m\u001b[0;34m=\u001b[0m\u001b[0;32mFalse\u001b[0m\u001b[0;34m)\u001b[0m\u001b[0;34m.\u001b[0m\u001b[0msynthesize\u001b[0m\u001b[0;34m(\u001b[0m\u001b[0;34m)\u001b[0m\u001b[0;34m\u001b[0m\u001b[0;34m\u001b[0m\u001b[0m\n\u001b[0m\u001b[1;32m     34\u001b[0m \u001b[0;34m\u001b[0m\u001b[0m\n\u001b[1;32m     35\u001b[0m         \u001b[0mres\u001b[0m\u001b[0;34m.\u001b[0m\u001b[0mappend\u001b[0m\u001b[0;34m(\u001b[0m\u001b[0;34m(\u001b[0m\u001b[0mresult_table\u001b[0m\u001b[0;34m,\u001b[0m \u001b[0mtree_marginals\u001b[0m\u001b[0;34m)\u001b[0m\u001b[0;34m)\u001b[0m\u001b[0;34m\u001b[0m\u001b[0;34m\u001b[0m\u001b[0m\n",
      "\u001b[0;32m~/syndata/jtree_refactored_procedural.py\u001b[0m in \u001b[0;36msynthesize\u001b[0;34m(self)\u001b[0m\n\u001b[1;32m    543\u001b[0m             \u001b[0;32mif\u001b[0m \u001b[0mself\u001b[0m\u001b[0;34m.\u001b[0m\u001b[0mverbose\u001b[0m\u001b[0;34m:\u001b[0m \u001b[0mprint\u001b[0m\u001b[0;34m(\u001b[0m\u001b[0;34mf'Processing tree {G.nodes()}'\u001b[0m\u001b[0;34m)\u001b[0m\u001b[0;34m\u001b[0m\u001b[0;34m\u001b[0m\u001b[0m\n\u001b[1;32m    544\u001b[0m \u001b[0;34m\u001b[0m\u001b[0m\n\u001b[0;32m--> 545\u001b[0;31m             \u001b[0mC\u001b[0m\u001b[0;34m,\u001b[0m \u001b[0mS\u001b[0m\u001b[0;34m,\u001b[0m \u001b[0mJ\u001b[0m \u001b[0;34m=\u001b[0m \u001b[0mbuildJunctionTree\u001b[0m\u001b[0;34m(\u001b[0m\u001b[0mG\u001b[0m\u001b[0;34m,\u001b[0m \u001b[0mself\u001b[0m\u001b[0;34m.\u001b[0m\u001b[0mverbose\u001b[0m\u001b[0;34m)\u001b[0m\u001b[0;34m\u001b[0m\u001b[0;34m\u001b[0m\u001b[0m\n\u001b[0m\u001b[1;32m    546\u001b[0m \u001b[0;34m\u001b[0m\u001b[0m\n\u001b[1;32m    547\u001b[0m             \u001b[0;31m# the output below is noise-free; epsilon is used to calculate noise var\u001b[0m\u001b[0;34m\u001b[0m\u001b[0;34m\u001b[0m\u001b[0;34m\u001b[0m\u001b[0m\n",
      "\u001b[0;32m~/syndata/jtree_refactored_procedural.py\u001b[0m in \u001b[0;36mbuildJunctionTree\u001b[0;34m(G, verbose)\u001b[0m\n\u001b[1;32m     78\u001b[0m     \u001b[0;31m# check triangulation (if problems arise)\u001b[0m\u001b[0;34m\u001b[0m\u001b[0;34m\u001b[0m\u001b[0;34m\u001b[0m\u001b[0m\n\u001b[1;32m     79\u001b[0m     \u001b[0mBM\u001b[0m \u001b[0;34m=\u001b[0m \u001b[0mmodels\u001b[0m\u001b[0;34m.\u001b[0m\u001b[0mMarkovModel\u001b[0m\u001b[0;34m(\u001b[0m\u001b[0mG\u001b[0m\u001b[0;34m.\u001b[0m\u001b[0medges\u001b[0m\u001b[0;34m(\u001b[0m\u001b[0;34m)\u001b[0m\u001b[0;34m)\u001b[0m\u001b[0;34m\u001b[0m\u001b[0;34m\u001b[0m\u001b[0m\n\u001b[0;32m---> 80\u001b[0;31m     \u001b[0mG\u001b[0m\u001b[0;34m=\u001b[0m\u001b[0mBM\u001b[0m\u001b[0;34m.\u001b[0m\u001b[0mto_junction_tree\u001b[0m\u001b[0;34m(\u001b[0m\u001b[0;34m)\u001b[0m\u001b[0;34m\u001b[0m\u001b[0;34m\u001b[0m\u001b[0m\n\u001b[0m\u001b[1;32m     81\u001b[0m \u001b[0;34m\u001b[0m\u001b[0m\n\u001b[1;32m     82\u001b[0m     \u001b[0;32mif\u001b[0m \u001b[0mverbose\u001b[0m\u001b[0;34m:\u001b[0m\u001b[0;34m\u001b[0m\u001b[0;34m\u001b[0m\u001b[0m\n",
      "\u001b[0;32m~/anaconda3/lib/python3.7/site-packages/pgmpy/models/MarkovModel.py\u001b[0m in \u001b[0;36mto_junction_tree\u001b[0;34m(self)\u001b[0m\n\u001b[1;32m    545\u001b[0m             \u001b[0mvar_card\u001b[0m \u001b[0;34m=\u001b[0m \u001b[0;34m[\u001b[0m\u001b[0mself\u001b[0m\u001b[0;34m.\u001b[0m\u001b[0mget_cardinality\u001b[0m\u001b[0;34m(\u001b[0m\u001b[0;34m)\u001b[0m\u001b[0;34m[\u001b[0m\u001b[0mx\u001b[0m\u001b[0;34m]\u001b[0m \u001b[0;32mfor\u001b[0m \u001b[0mx\u001b[0m \u001b[0;32min\u001b[0m \u001b[0mnode\u001b[0m\u001b[0;34m]\u001b[0m\u001b[0;34m\u001b[0m\u001b[0;34m\u001b[0m\u001b[0m\n\u001b[1;32m    546\u001b[0m             clique_potential = DiscreteFactor(\n\u001b[0;32m--> 547\u001b[0;31m                 \u001b[0mnode\u001b[0m\u001b[0;34m,\u001b[0m \u001b[0mvar_card\u001b[0m\u001b[0;34m,\u001b[0m \u001b[0mnp\u001b[0m\u001b[0;34m.\u001b[0m\u001b[0mones\u001b[0m\u001b[0;34m(\u001b[0m\u001b[0mnp\u001b[0m\u001b[0;34m.\u001b[0m\u001b[0mproduct\u001b[0m\u001b[0;34m(\u001b[0m\u001b[0mvar_card\u001b[0m\u001b[0;34m)\u001b[0m\u001b[0;34m)\u001b[0m\u001b[0;34m\u001b[0m\u001b[0;34m\u001b[0m\u001b[0m\n\u001b[0m\u001b[1;32m    548\u001b[0m             )\n\u001b[1;32m    549\u001b[0m             \u001b[0;31m# multiply it with the factors associated with the variables present\u001b[0m\u001b[0;34m\u001b[0m\u001b[0;34m\u001b[0m\u001b[0;34m\u001b[0m\u001b[0m\n",
      "\u001b[0;32m~/anaconda3/lib/python3.7/site-packages/pgmpy/factors/discrete/DiscreteFactor.py\u001b[0m in \u001b[0;36m__init__\u001b[0;34m(self, variables, cardinality, values, state_names)\u001b[0m\n\u001b[1;32m     99\u001b[0m         \u001b[0mself\u001b[0m\u001b[0;34m.\u001b[0m\u001b[0mvariables\u001b[0m \u001b[0;34m=\u001b[0m \u001b[0mlist\u001b[0m\u001b[0;34m(\u001b[0m\u001b[0mvariables\u001b[0m\u001b[0;34m)\u001b[0m\u001b[0;34m\u001b[0m\u001b[0;34m\u001b[0m\u001b[0m\n\u001b[1;32m    100\u001b[0m         \u001b[0mself\u001b[0m\u001b[0;34m.\u001b[0m\u001b[0mcardinality\u001b[0m \u001b[0;34m=\u001b[0m \u001b[0mnp\u001b[0m\u001b[0;34m.\u001b[0m\u001b[0marray\u001b[0m\u001b[0;34m(\u001b[0m\u001b[0mcardinality\u001b[0m\u001b[0;34m,\u001b[0m \u001b[0mdtype\u001b[0m\u001b[0;34m=\u001b[0m\u001b[0mint\u001b[0m\u001b[0;34m)\u001b[0m\u001b[0;34m\u001b[0m\u001b[0;34m\u001b[0m\u001b[0m\n\u001b[0;32m--> 101\u001b[0;31m         \u001b[0mself\u001b[0m\u001b[0;34m.\u001b[0m\u001b[0mvalues\u001b[0m \u001b[0;34m=\u001b[0m \u001b[0mvalues\u001b[0m\u001b[0;34m.\u001b[0m\u001b[0mreshape\u001b[0m\u001b[0;34m(\u001b[0m\u001b[0mself\u001b[0m\u001b[0;34m.\u001b[0m\u001b[0mcardinality\u001b[0m\u001b[0;34m)\u001b[0m\u001b[0;34m\u001b[0m\u001b[0;34m\u001b[0m\u001b[0m\n\u001b[0m\u001b[1;32m    102\u001b[0m \u001b[0;34m\u001b[0m\u001b[0m\n\u001b[1;32m    103\u001b[0m         \u001b[0;31m# Set the state names\u001b[0m\u001b[0;34m\u001b[0m\u001b[0;34m\u001b[0m\u001b[0;34m\u001b[0m\u001b[0m\n",
      "\u001b[0;31mValueError\u001b[0m: maximum supported dimension for an ndarray is 32, found 36"
     ]
    }
   ],
   "source": [
    "import time\n",
    "start = time.time()\n",
    "import pandas as pd\n",
    "\n",
    "\n",
    "from sklearn import datasets\n",
    "import numpy as np\n",
    "from sklearn import preprocessing\n",
    "\n",
    "var=datasets.fetch_california_housing()\n",
    "X = np.hstack([var.data, var.target[:,np.newaxis]])\n",
    "data = pd.DataFrame(X)\n",
    "print(f'Dataset Size: {data.shape}')\n",
    "\n",
    "from sklearn.preprocessing import KBinsDiscretizer  \n",
    "disc = KBinsDiscretizer(strategy='uniform')\n",
    "data_discrete=pd.DataFrame(disc.fit_transform(data).toarray())\n",
    "\n",
    "from sklearn.model_selection import train_test_split\n",
    "X, y = train_test_split(data_discrete)\n",
    "\n",
    "\n",
    "print(f'Training\\n{X.sample(5)}')\n",
    "print(f'Testing\\n{y.sample(5)}')\n",
    "\n",
    "res=[]\n",
    "for i in range(5):    \n",
    "    print('-'*25,i,'-'*25)\n",
    "\n",
    "    import jtree_refactored_procedural as jt\n",
    "    \n",
    "    try:\n",
    "        result_table, tree_marginals = jt.JTree(X, verbose=False).synthesize()\n",
    "\n",
    "        res.append((result_table, tree_marginals))\n",
    "    except Exception as ex:\n",
    "        raise\n",
    "        print(ex)\n",
    "        print('*'*40,'FAILED','*'*40)\n",
    "        res.append(\"FAILED\")\n",
    "    finally:\n",
    "        pass\n",
    "print(f'Time : {round(time.time()-start)}')\n",
    "\n",
    "tables=[mat[0] for mat in res if not isinstance(mat[0],str)]\n",
    "nans = [mat.isna().values.sum()/(mat.shape[0]*mat.shape[1]) for mat in tables]\n",
    "\n",
    "import numpy as np\n",
    "import matplotlib.pyplot as plt\n",
    "\n",
    "plt.scatter(range(len(nans)),nans)\n",
    "plt.title('Percent NaNs in sets')\n",
    "plt.show()\n",
    "\n",
    "from sklearn.neural_network import MLPClassifier\n",
    "model = MLPClassifier(max_iter=500)\n",
    "\n",
    "# from sklearn.model_selection import cross_val_score\n",
    "# acc_raw = cross_val_score(model, X, y, cv=10).mean()\n",
    "\n",
    "accs=[runModelSimple(y, table, model, 'MLP', 'adult') for table in tables]\n",
    "print(f'Mean acc for {len(accs)} runs is {np.array(accs).mean()}')\n",
    "\n",
    "X = pd.get_dummies(data_discrete.iloc[:,:-1])#data.iloc[:,:-1].copy()\n",
    "y = data_discrete.iloc[:,-1].copy()"
   ]
  },
  {
   "cell_type": "code",
   "execution_count": 1,
   "metadata": {},
   "outputs": [
    {
     "name": "stdout",
     "output_type": "stream",
     "text": [
      "Dataset Size: (581012, 55)\n",
      "(581012, 275)\n"
     ]
    }
   ],
   "source": [
    "import time\n",
    "start = time.time()\n",
    "import pandas as pd\n",
    "\n",
    "\n",
    "from sklearn import datasets\n",
    "import numpy as np\n",
    "from sklearn import preprocessing\n",
    "\n",
    "var=datasets.fetch_covtype()\n",
    "X = np.hstack([var.data, var.target[:,np.newaxis]])\n",
    "data = pd.DataFrame(X)\n",
    "print(f'Dataset Size: {data.shape}')\n",
    "\n",
    "from sklearn.preprocessing import KBinsDiscretizer  \n",
    "disc = KBinsDiscretizer(strategy='uniform')\n",
    "data_discrete=pd.DataFrame(disc.fit_transform(data).toarray())\n",
    "print(data_discrete.shape)\n",
    "\n",
    "dims=[len(set(data_discrete[col].values)) for col in data_discrete.columns]\n",
    "\n",
    "from functools import reduce\n",
    "product = reduce((lambda x, y: x * y), dims)\n",
    "\n",
    "\n",
    "\n",
    "# from sklearn.model_selection import train_test_split\n",
    "# X, y = train_test_split(data_discrete)\n",
    "\n",
    "\n",
    "# print(f'Training\\n{X.sample(5)}')\n",
    "# print(f'Testing\\n{y.sample(5)}')\n",
    "\n",
    "# res=[]\n",
    "# for i in range(5):    \n",
    "#     print('-'*25,i,'-'*25)\n",
    "\n",
    "#     import jtree_refactored_procedural as jt\n",
    "    \n",
    "#     try:\n",
    "#         result_table, tree_marginals = jt.JTree(X, verbose=False).synthesize()\n",
    "\n",
    "#         res.append((result_table, tree_marginals))\n",
    "#     except Exception as ex:\n",
    "#         raise\n",
    "#         print(ex)\n",
    "#         print('*'*40,'FAILED','*'*40)\n",
    "#         res.append(\"FAILED\")\n",
    "#     finally:\n",
    "#         pass\n",
    "\n",
    "# tables=[mat[0] for mat in res if not isinstance(mat[0],str)]\n",
    "# nans = [mat.isna().values.sum()/(mat.shape[0]*mat.shape[1]) for mat in tables]\n",
    "\n",
    "# import numpy as np\n",
    "# import matplotlib.pyplot as plt\n",
    "\n",
    "# plt.scatter(range(len(nans)),nans)\n",
    "# plt.title('Percent NaNs in sets')\n",
    "# plt.show()\n",
    "\n",
    "# print(f'Mean NaN is {np.array(nans).mean()}')\n",
    "\n",
    "# from sklearn.neural_network import MLPClassifier\n",
    "# model = MLPClassifier(max_iter=500)\n",
    "\n",
    "# # from sklearn.model_selection import cross_val_score\n",
    "# # acc_raw = cross_val_score(model, X, y, cv=10).mean()\n",
    "\n",
    "# accs=[runModelSimple(y, table, model, 'MLP', 'adult') for table in tables]\n",
    "# print(f'Mean acc for {len(accs)} runs is {np.array(accs).mean()}')\n",
    "\n",
    "# X = pd.get_dummies(data_discrete.iloc[:,:-1])#data.iloc[:,:-1].copy()\n",
    "# y = data_discrete.iloc[:,-1].copy()\n",
    "\n",
    "# print(f'Time : {round(time.time()-start)}')"
   ]
  },
  {
   "cell_type": "code",
   "execution_count": 2,
   "metadata": {},
   "outputs": [
    {
     "data": {
      "text/plain": [
       "11150372599265311570767859136324180752990208"
      ]
     },
     "execution_count": 2,
     "metadata": {},
     "output_type": "execute_result"
    }
   ],
   "source": [
    "product"
   ]
  },
  {
   "cell_type": "code",
   "execution_count": 8,
   "metadata": {},
   "outputs": [
    {
     "data": {
      "text/plain": [
       "0"
      ]
     },
     "execution_count": 8,
     "metadata": {},
     "output_type": "execute_result"
    }
   ],
   "source": [
    "dims=[len(set(data_discrete[col].values)) for col in data_discrete.columns]\n",
    "np.prod(np.array(dims))"
   ]
  },
  {
   "cell_type": "code",
   "execution_count": 10,
   "metadata": {},
   "outputs": [
    {
     "data": {
      "text/plain": [
       "143"
      ]
     },
     "execution_count": 10,
     "metadata": {},
     "output_type": "execute_result"
    }
   ],
   "source": [
    "import math\n",
    "int(math.log(product, 2))"
   ]
  },
  {
   "cell_type": "code",
   "execution_count": 24,
   "metadata": {},
   "outputs": [
    {
     "data": {
      "text/plain": [
       "51"
      ]
     },
     "execution_count": 24,
     "metadata": {},
     "output_type": "execute_result"
    }
   ],
   "source": [
    "data_short = data_discrete.iloc[:,:52]\n",
    "dims=[len(set(data_short[col].values)) for col in data_short.columns]\n",
    "from functools import reduce\n",
    "product = reduce((lambda x, y: x * y), dims)\n",
    "int(math.log(product, 2))\n",
    "# data_short\n"
   ]
  },
  {
   "cell_type": "code",
   "execution_count": 25,
   "metadata": {},
   "outputs": [
    {
     "name": "stderr",
     "output_type": "stream",
     "text": [
      "/home/krudavsk/syndata/jtree_refactored_procedural.py:252: UserWarning: Domains not provided. Privacy leak!\n",
      "  warnings.warn(\"Domains not provided. Privacy leak!\", UserWarning)\n"
     ]
    },
    {
     "name": "stdout",
     "output_type": "stream",
     "text": [
      "Running on [0, 1, 2, 3, 4, 5, 6, 7, 8, 9, 10, 11, 12, 13, 14, 15, 16, 17, 18, 19] cores\n",
      "Changing engines CWD to /home/krudavsk/syndata\n"
     ]
    },
    {
     "data": {
      "image/png": "[encoded data removed]",
      "text/plain": [
       "<Figure size 432x288 with 1 Axes>"
      ]
     },
     "metadata": {},
     "output_type": "display_data"
    },
    {
     "name": "stdout",
     "output_type": "stream",
     "text": [
      "Processing tree [0, 1, 2, 3, 5, 6, 7, 8, 9, 10, 11, 12, 13, 15, 16, 17, 18, 20, 21, 22, 24, 25, 26, 27, 28, 29, 31, 32, 33, 34, 36, 38, 39, 40, 41, 42, 43, 44, 45, 46, 47, 48, 49, 50, 51]\n"
     ]
    },
    {
     "name": "stderr",
     "output_type": "stream",
     "text": [
      "/home/krudavsk/anaconda3/lib/python3.7/site-packages/pgmpy/models/MarkovModel.py:447: RuntimeWarning: invalid value encountered in long_scalars\n",
      "  S_by_C = {key: S[key] / C[key] for key in S}\n"
     ]
    },
    {
     "data": {
      "image/png": "[encoded data removed]",
      "text/plain": [
       "<Figure size 432x288 with 1 Axes>"
      ]
     },
     "metadata": {},
     "output_type": "display_data"
    },
    {
     "name": "stdout",
     "output_type": "stream",
     "text": [
      "Processing 20 possible mergins...\n",
      "Merging m = 10 is infeasible\n",
      "Merging m = 11 is infeasible\n",
      "Merging m = 12 is infeasible\n",
      "Merging m = 13 is infeasible\n",
      "Merging m = 14 is infeasible\n",
      "Merging m = 15 is infeasible\n",
      "Merging m = 16 is infeasible\n",
      "Merging m = 17 is infeasible\n",
      "Merging m = 18 is infeasible\n",
      "Merging m = 19 is infeasible\n",
      "Mergings are [[{0, 1, 2, 3, 4, 5, 6, 7, 8, 9, 10, 11, 12, 13, 14, 15, 16, 17, 18, 19, 20, 21, 22, 23, 24, 25, 26, 27, 28, 29, 30, 31, 32, 33, 34, 35, 36, 37, 38, 39, 40, 41, 42, 43, 44, 45, 46, 47, 48, 49, 50, 51}], [{0, 10, 11, 12, 15, 16, 17, 20, 21, 22, 25, 32, 33, 34, 36, 38, 39, 40, 41, 42, 44, 45, 46, 47, 48, 50, 51}, {1, 2, 3, 5, 6, 7, 8, 9, 11, 12, 13, 18, 24, 25, 26, 27, 28, 29, 31, 32, 33, 34, 38, 39, 40, 41, 42, 43, 44, 45, 49, 50, 51}], [{1, 2, 3, 6, 7, 8, 9, 15, 16, 17, 20, 21, 22, 24, 25, 33, 34, 36, 38, 39, 41, 42, 43, 44, 45, 46, 47, 48, 49, 50, 51}, {10, 11, 12, 13, 18, 25, 26, 27, 28, 29, 32, 33, 34, 38, 39, 41, 42, 44, 45, 50, 51}, {0, 3, 5, 6, 7, 8, 9, 12, 25, 31, 32, 33, 34, 38, 39, 40, 41, 42, 43, 44, 45, 50, 51}], [{0, 11, 12, 15, 16, 17, 20, 21, 22, 25, 32, 33, 34, 38, 39, 40, 41, 42, 43, 44, 45, 46, 47, 48, 49, 50, 51}, {1, 2, 3, 6, 7, 8, 9, 25, 26, 27, 28, 29, 33, 34, 38, 39, 41, 42, 43, 44, 45, 50, 51}, {5, 6, 7, 8, 9, 10, 11, 12, 18, 31, 32, 33, 34, 38, 39, 41, 42, 43, 44, 50, 51}, {32, 33, 34, 3, 36, 38, 39, 40, 41, 42, 44, 45, 12, 13, 50, 51, 24, 25}], [{0, 1, 2, 3, 45, 49, 50, 51, 24, 25}, {33, 34, 38, 39, 40, 41, 42, 43, 44, 45, 50, 51, 25, 26, 27, 28, 29, 31}, {32, 33, 34, 38, 39, 41, 42, 11, 44, 12, 15, 16, 17, 50, 51, 20, 21, 22}, {32, 33, 34, 3, 36, 38, 39, 40, 41, 42, 10, 44, 45, 12, 11, 50, 51, 25}, {5, 6, 7, 8, 9, 13, 18, 33, 34, 38, 39, 41, 42, 43, 44, 45, 46, 47, 48, 50, 51}], [{6, 7, 8, 9, 15, 16, 17, 20, 21, 22, 33, 34, 36, 38, 39, 41, 42, 43, 44, 51}, {1, 2, 3, 45, 46, 47, 48, 50, 51, 25, 31}, {0, 33, 34, 5, 38, 6, 7, 39, 8, 9, 42, 43, 44, 51, 25}, {3, 11, 12, 25, 26, 27, 28, 32, 33, 34, 38, 39, 40, 41, 42, 43, 44, 45, 50, 51}, {32, 33, 34, 38, 39, 40, 41, 42, 44, 12, 13, 50, 51, 29}, {32, 33, 34, 38, 39, 41, 10, 42, 11, 44, 12, 49, 18, 50, 51, 24}], [{3, 36, 45, 51, 25}, {49, 50, 51, 31}, {0, 13, 51, 20, 21, 25}, {1, 2, 3, 6, 7, 8, 9, 25, 26, 27, 28, 33, 34, 38, 39, 41, 42, 43, 44, 45, 50, 51}, {5, 6, 7, 8, 9, 11, 12, 32, 33, 34, 38, 39, 40, 41, 42, 43, 44, 45, 46, 47, 48, 50, 51}, {33, 34, 38, 39, 40, 41, 42, 43, 44, 15, 16, 17, 50, 51, 21, 22, 29}, {32, 33, 34, 38, 39, 41, 10, 42, 11, 44, 12, 18, 51, 50, 24}], [{32, 33, 34, 36, 38, 39, 41, 42, 11, 44, 12, 10, 50, 51}, {32, 33, 34, 38, 39, 40, 41, 42, 44, 12, 50, 51, 29}, {33, 34, 3, 5, 38, 6, 7, 39, 8, 9, 42, 45, 43, 44, 51, 25}, {13, 45, 46, 48, 47, 50, 51, 25, 26, 27, 28}, {0, 1, 2, 3, 45, 25}, {24, 18, 51}, {6, 7, 8, 9, 15, 16, 17, 20, 21, 22, 33, 34, 38, 39, 41, 42, 43, 44, 51}, {33, 34, 38, 39, 40, 41, 42, 43, 44, 49, 50, 51, 31}], [{33, 34, 38, 6, 7, 41, 39, 8, 9, 42, 43, 44, 51, 31}, {1, 2, 3, 5, 6, 7, 8, 9, 25, 29, 33, 34, 38, 39, 42, 43, 44, 45, 50, 51}, {45, 46, 47, 48, 50, 51, 20, 21}, {32, 33, 34, 38, 39, 40, 41, 42, 10, 44, 12, 11, 50, 51}, {0, 45, 15, 16, 17, 50, 51, 21, 22, 25, 26, 27, 28}, {49, 50}, {32, 33, 34, 3, 38, 39, 41, 42, 11, 44, 45, 12, 50, 51, 25}, {24, 18, 51, 36}, {33, 34, 38, 39, 40, 41, 42, 43, 44, 13, 50, 51}], [{51, 31}, {45, 46, 47, 48, 50, 51}, {25, 3, 45, 51}, {51, 20, 21}, {51, 36}, {33, 34, 38, 6, 7, 41, 39, 8, 9, 42, 43, 44, 51}, {1, 2, 3, 45, 25}, {49, 50}, {32, 33, 34, 38, 39, 41, 42, 11, 44, 12, 50, 51}, {33, 34, 5, 38, 6, 7, 39, 8, 9, 42, 43, 44, 51}, {45, 50, 51, 25, 26, 27, 28}, {18, 51}, {0, 25}, {50, 51, 29}, {33, 34, 38, 39, 40, 41, 42, 43, 44, 50, 51}, {32, 33, 34, 38, 39, 40, 41, 42, 44, 12, 50, 51}, {15, 16, 17, 51, 21, 22}, {24, 51}, {32, 33, 34, 38, 39, 41, 10, 42, 11, 44, 12, 50}, {51, 13}]]\n",
      "Adding noise to clusters: [{51, 31}, {45, 46, 47, 48, 50, 51}, {25, 3, 45, 51}, {51, 20, 21}, {51, 36}, {33, 34, 6, 38, 7, 41, 39, 8, 9, 42, 43, 44, 51}, {1, 2, 3, 45, 25}, {49, 50}, {32, 33, 34, 38, 39, 41, 42, 11, 44, 12, 50, 51}, {33, 34, 5, 38, 6, 7, 39, 8, 9, 42, 43, 44, 51}, {45, 50, 51, 25, 26, 27, 28}, {18, 51}, {0, 25}, {50, 51, 29}, {33, 34, 38, 39, 40, 41, 42, 43, 44, 50, 51}, {32, 33, 34, 38, 39, 40, 41, 42, 44, 12, 50, 51}, {15, 16, 17, 51, 21, 22}, {24, 51}, {32, 33, 34, 38, 39, 41, 10, 42, 11, 44, 12, 50}, {51, 13}]\n",
      "Updating attribtue 2040 out of 2048Bias threshold is 1221\n",
      "Bias threshold is 38\n",
      "Bias threshold is 22647\n",
      "Bias threshold is 16192\n",
      "Bias threshold is 72\n",
      "Bias threshold is 1\n",
      "Bias threshold is 698\n",
      "Bias threshold is 5\n",
      "Bias threshold is 1\n",
      "Bias threshold is 1\n",
      "Bias threshold is 1132\n",
      "Bias threshold is 10061\n",
      "Bias threshold is 554\n",
      "Bias threshold is 20075\n",
      "Bias threshold is 1\n",
      "Bias threshold is 1\n",
      "Bias threshold is 1834\n",
      "Bias threshold is 151\n",
      "Bias threshold is 1\n",
      "Bias threshold is 1513\n",
      "Calculating marginals of clique (51, 31) from (51, 31)\n",
      "Calculating marginals of clique (51, 50, 45, 48, 46, 47) from (45, 46, 47, 48, 50, 51)\n",
      "Calculating marginals of clique (51, 3, 25, 45) from (25, 3, 45, 51)\n",
      "Calculating marginals of clique (51, 20, 21) from (51, 20, 21)\n",
      "Calculating marginals of clique (51, 36) from (51, 36)\n",
      "Calculating marginals of clique (51, 6, 33, 34, 41, 38, 7, 39, 8, 9, 42, 43, 44) from (33, 34, 6, 38, 7, 41, 39, 8, 9, 42, 43, 44, 51)\n",
      "Calculating marginals of clique (1, 25, 2, 3, 45) from (1, 2, 3, 45, 25)\n",
      "Calculating marginals of clique (49, 50) from (49, 50)\n",
      "Calculating marginals of clique (51, 50, 33, 34, 38, 39, 41, 42, 44, 32, 12, 11) from (32, 33, 34, 38, 39, 41, 42, 11, 44, 12, 50, 51)\n",
      "Calculating marginals of clique (51, 5, 33, 34, 38, 6, 7, 39, 8, 9, 42, 43, 44) from (33, 34, 5, 38, 6, 7, 39, 8, 9, 42, 43, 44, 51)\n",
      "Calculating marginals of clique (51, 50, 45, 25, 26, 27, 28) from (45, 50, 51, 25, 26, 27, 28)\n",
      "Calculating marginals of clique (51, 18) from (18, 51)\n",
      "Calculating marginals of clique (0, 25) from (0, 25)\n",
      "Calculating marginals of clique (51, 50, 29) from (50, 51, 29)\n",
      "Calculating marginals of clique (51, 50, 33, 34, 38, 39, 41, 42, 44, 43, 40) from (33, 34, 38, 39, 40, 41, 42, 43, 44, 50, 51)\n",
      "Calculating marginals of clique (51, 50, 33, 34, 38, 39, 41, 42, 44, 32, 12, 40) from (32, 33, 34, 38, 39, 40, 41, 42, 44, 12, 50, 51)\n",
      "Calculating marginals of clique (51, 15, 16, 17, 21, 22) from (15, 16, 17, 51, 21, 22)\n",
      "Calculating marginals of clique (51, 24) from (24, 51)\n",
      "Calculating marginals of clique (10, 32, 33, 34, 38, 39, 41, 42, 50, 11, 44, 12) from (32, 33, 34, 38, 39, 41, 10, 42, 11, 44, 12, 50)\n",
      "Calculating marginals of clique (51, 13) from (51, 13)\n",
      "Processing tree [4]\n",
      "Adding noise to clusters: [{4}]\n",
      "Bias threshold is 4113\n",
      "Calculating marginals of clique (4,) from (4,)\n",
      "Processing tree [14]\n",
      "Adding noise to clusters: [{14}]\n",
      "Bias threshold is 39\n",
      "Calculating marginals of clique (14,) from (14,)\n",
      "Processing tree [19]\n",
      "Adding noise to clusters: [{19}]\n"
     ]
    },
    {
     "ename": "KeyboardInterrupt",
     "evalue": "",
     "output_type": "error",
     "traceback": [
      "\u001b[0;31m---------------------------------------------------------------------------\u001b[0m",
      "\u001b[0;31mKeyboardInterrupt\u001b[0m                         Traceback (most recent call last)",
      "\u001b[0;32m<ipython-input-25-b95ae4882c80>\u001b[0m in \u001b[0;36m<module>\u001b[0;34m\u001b[0m\n\u001b[1;32m      1\u001b[0m \u001b[0;32mimport\u001b[0m \u001b[0mjtree_refactored_procedural\u001b[0m \u001b[0;32mas\u001b[0m \u001b[0mjt\u001b[0m\u001b[0;34m\u001b[0m\u001b[0;34m\u001b[0m\u001b[0m\n\u001b[0;32m----> 2\u001b[0;31m \u001b[0mresult_table\u001b[0m\u001b[0;34m,\u001b[0m \u001b[0mtree_marginals\u001b[0m \u001b[0;34m=\u001b[0m \u001b[0mjt\u001b[0m\u001b[0;34m.\u001b[0m\u001b[0mJTree\u001b[0m\u001b[0;34m(\u001b[0m\u001b[0mdata_short\u001b[0m\u001b[0;34m,\u001b[0m \u001b[0mverbose\u001b[0m\u001b[0;34m=\u001b[0m\u001b[0;32mTrue\u001b[0m\u001b[0;34m)\u001b[0m\u001b[0;34m.\u001b[0m\u001b[0msynthesize\u001b[0m\u001b[0;34m(\u001b[0m\u001b[0;34m)\u001b[0m\u001b[0;34m\u001b[0m\u001b[0;34m\u001b[0m\u001b[0m\n\u001b[0m",
      "\u001b[0;32m~/syndata/jtree_refactored_procedural.py\u001b[0m in \u001b[0;36msynthesize\u001b[0;34m(self)\u001b[0m\n\u001b[1;32m    572\u001b[0m \u001b[0;34m\u001b[0m\u001b[0m\n\u001b[1;32m    573\u001b[0m             \u001b[0;31m# remove negative vals and other garbage from Laplacian nosie\u001b[0m\u001b[0;34m\u001b[0m\u001b[0;34m\u001b[0m\u001b[0;34m\u001b[0m\u001b[0m\n\u001b[0;32m--> 574\u001b[0;31m             \u001b[0mmarginals\u001b[0m \u001b[0;34m=\u001b[0m \u001b[0mself\u001b[0m\u001b[0;34m.\u001b[0m\u001b[0mmitigateBias\u001b[0m\u001b[0;34m(\u001b[0m\u001b[0mmarginals\u001b[0m\u001b[0;34m,\u001b[0m \u001b[0mself\u001b[0m\u001b[0;34m.\u001b[0m\u001b[0mdata\u001b[0m\u001b[0;34m.\u001b[0m\u001b[0mshape\u001b[0m\u001b[0;34m[\u001b[0m\u001b[0;36m0\u001b[0m\u001b[0;34m]\u001b[0m\u001b[0;34m)\u001b[0m\u001b[0;34m\u001b[0m\u001b[0;34m\u001b[0m\u001b[0m\n\u001b[0m\u001b[1;32m    575\u001b[0m \u001b[0;34m\u001b[0m\u001b[0m\n\u001b[1;32m    576\u001b[0m             \u001b[0mclique_marginals\u001b[0m\u001b[0;34m=\u001b[0m\u001b[0mdict\u001b[0m\u001b[0;34m(\u001b[0m\u001b[0;34m)\u001b[0m\u001b[0;34m\u001b[0m\u001b[0;34m\u001b[0m\u001b[0m\n",
      "\u001b[0;32m~/syndata/jtree_refactored_procedural.py\u001b[0m in \u001b[0;36mmitigateBias\u001b[0;34m(self, T_CL, D_size)\u001b[0m\n\u001b[1;32m    411\u001b[0m \u001b[0;34m\u001b[0m\u001b[0m\n\u001b[1;32m    412\u001b[0m             \u001b[0;31m# TODO: parallelize this\u001b[0m\u001b[0;34m\u001b[0m\u001b[0;34m\u001b[0m\u001b[0;34m\u001b[0m\u001b[0m\n\u001b[0;32m--> 413\u001b[0;31m             \u001b[0mN_dict\u001b[0m \u001b[0;34m=\u001b[0m \u001b[0;34m{\u001b[0m\u001b[0mthold\u001b[0m\u001b[0;34m:\u001b[0m\u001b[0mT_CL\u001b[0m\u001b[0;34m[\u001b[0m\u001b[0mc\u001b[0m\u001b[0;34m]\u001b[0m\u001b[0;34m[\u001b[0m\u001b[0;34m'margin'\u001b[0m\u001b[0;34m]\u001b[0m\u001b[0;34m[\u001b[0m\u001b[0mT_CL\u001b[0m\u001b[0;34m[\u001b[0m\u001b[0mc\u001b[0m\u001b[0;34m]\u001b[0m\u001b[0;34m[\u001b[0m\u001b[0;34m'margin'\u001b[0m\u001b[0;34m]\u001b[0m \u001b[0;34m>=\u001b[0m \u001b[0mthold\u001b[0m\u001b[0;34m]\u001b[0m\u001b[0;34m.\u001b[0m\u001b[0msum\u001b[0m\u001b[0;34m(\u001b[0m\u001b[0;34m)\u001b[0m \u001b[0;32mfor\u001b[0m \u001b[0mthold\u001b[0m \u001b[0;32min\u001b[0m \u001b[0mtholds\u001b[0m\u001b[0;34m}\u001b[0m\u001b[0;34m\u001b[0m\u001b[0;34m\u001b[0m\u001b[0m\n\u001b[0m\u001b[1;32m    414\u001b[0m \u001b[0;34m\u001b[0m\u001b[0m\n\u001b[1;32m    415\u001b[0m             \u001b[0;32massert\u001b[0m \u001b[0mlen\u001b[0m\u001b[0;34m(\u001b[0m\u001b[0mN_dict\u001b[0m\u001b[0;34m)\u001b[0m \u001b[0;34m>\u001b[0m \u001b[0;36m0\u001b[0m\u001b[0;34m,\u001b[0m \u001b[0mT_CL\u001b[0m\u001b[0;34m[\u001b[0m\u001b[0mc\u001b[0m\u001b[0;34m]\u001b[0m\u001b[0;34m\u001b[0m\u001b[0;34m\u001b[0m\u001b[0m\n",
      "\u001b[0;32m~/syndata/jtree_refactored_procedural.py\u001b[0m in \u001b[0;36m<dictcomp>\u001b[0;34m(.0)\u001b[0m\n\u001b[1;32m    411\u001b[0m \u001b[0;34m\u001b[0m\u001b[0m\n\u001b[1;32m    412\u001b[0m             \u001b[0;31m# TODO: parallelize this\u001b[0m\u001b[0;34m\u001b[0m\u001b[0;34m\u001b[0m\u001b[0;34m\u001b[0m\u001b[0m\n\u001b[0;32m--> 413\u001b[0;31m             \u001b[0mN_dict\u001b[0m \u001b[0;34m=\u001b[0m \u001b[0;34m{\u001b[0m\u001b[0mthold\u001b[0m\u001b[0;34m:\u001b[0m\u001b[0mT_CL\u001b[0m\u001b[0;34m[\u001b[0m\u001b[0mc\u001b[0m\u001b[0;34m]\u001b[0m\u001b[0;34m[\u001b[0m\u001b[0;34m'margin'\u001b[0m\u001b[0;34m]\u001b[0m\u001b[0;34m[\u001b[0m\u001b[0mT_CL\u001b[0m\u001b[0;34m[\u001b[0m\u001b[0mc\u001b[0m\u001b[0;34m]\u001b[0m\u001b[0;34m[\u001b[0m\u001b[0;34m'margin'\u001b[0m\u001b[0;34m]\u001b[0m \u001b[0;34m>=\u001b[0m \u001b[0mthold\u001b[0m\u001b[0;34m]\u001b[0m\u001b[0;34m.\u001b[0m\u001b[0msum\u001b[0m\u001b[0;34m(\u001b[0m\u001b[0;34m)\u001b[0m \u001b[0;32mfor\u001b[0m \u001b[0mthold\u001b[0m \u001b[0;32min\u001b[0m \u001b[0mtholds\u001b[0m\u001b[0;34m}\u001b[0m\u001b[0;34m\u001b[0m\u001b[0;34m\u001b[0m\u001b[0m\n\u001b[0m\u001b[1;32m    414\u001b[0m \u001b[0;34m\u001b[0m\u001b[0m\n\u001b[1;32m    415\u001b[0m             \u001b[0;32massert\u001b[0m \u001b[0mlen\u001b[0m\u001b[0;34m(\u001b[0m\u001b[0mN_dict\u001b[0m\u001b[0;34m)\u001b[0m \u001b[0;34m>\u001b[0m \u001b[0;36m0\u001b[0m\u001b[0;34m,\u001b[0m \u001b[0mT_CL\u001b[0m\u001b[0;34m[\u001b[0m\u001b[0mc\u001b[0m\u001b[0;34m]\u001b[0m\u001b[0;34m\u001b[0m\u001b[0;34m\u001b[0m\u001b[0m\n",
      "\u001b[0;32m~/anaconda3/lib/python3.7/site-packages/pandas/core/generic.py\u001b[0m in \u001b[0;36mstat_func\u001b[0;34m(self, axis, skipna, level, numeric_only, min_count, **kwargs)\u001b[0m\n\u001b[1;32m  11180\u001b[0m             \u001b[0mskipna\u001b[0m\u001b[0;34m=\u001b[0m\u001b[0mskipna\u001b[0m\u001b[0;34m,\u001b[0m\u001b[0;34m\u001b[0m\u001b[0;34m\u001b[0m\u001b[0m\n\u001b[1;32m  11181\u001b[0m             \u001b[0mnumeric_only\u001b[0m\u001b[0;34m=\u001b[0m\u001b[0mnumeric_only\u001b[0m\u001b[0;34m,\u001b[0m\u001b[0;34m\u001b[0m\u001b[0;34m\u001b[0m\u001b[0m\n\u001b[0;32m> 11182\u001b[0;31m             \u001b[0mmin_count\u001b[0m\u001b[0;34m=\u001b[0m\u001b[0mmin_count\u001b[0m\u001b[0;34m,\u001b[0m\u001b[0;34m\u001b[0m\u001b[0;34m\u001b[0m\u001b[0m\n\u001b[0m\u001b[1;32m  11183\u001b[0m         )\n\u001b[1;32m  11184\u001b[0m \u001b[0;34m\u001b[0m\u001b[0m\n",
      "\u001b[0;32m~/anaconda3/lib/python3.7/site-packages/pandas/core/series.py\u001b[0m in \u001b[0;36m_reduce\u001b[0;34m(self, op, name, axis, skipna, numeric_only, filter_type, **kwds)\u001b[0m\n\u001b[1;32m   3889\u001b[0m                 )\n\u001b[1;32m   3890\u001b[0m             \u001b[0;32mwith\u001b[0m \u001b[0mnp\u001b[0m\u001b[0;34m.\u001b[0m\u001b[0merrstate\u001b[0m\u001b[0;34m(\u001b[0m\u001b[0mall\u001b[0m\u001b[0;34m=\u001b[0m\u001b[0;34m\"ignore\"\u001b[0m\u001b[0;34m)\u001b[0m\u001b[0;34m:\u001b[0m\u001b[0;34m\u001b[0m\u001b[0;34m\u001b[0m\u001b[0m\n\u001b[0;32m-> 3891\u001b[0;31m                 \u001b[0;32mreturn\u001b[0m \u001b[0mop\u001b[0m\u001b[0;34m(\u001b[0m\u001b[0mdelegate\u001b[0m\u001b[0;34m,\u001b[0m \u001b[0mskipna\u001b[0m\u001b[0;34m=\u001b[0m\u001b[0mskipna\u001b[0m\u001b[0;34m,\u001b[0m \u001b[0;34m**\u001b[0m\u001b[0mkwds\u001b[0m\u001b[0;34m)\u001b[0m\u001b[0;34m\u001b[0m\u001b[0;34m\u001b[0m\u001b[0m\n\u001b[0m\u001b[1;32m   3892\u001b[0m \u001b[0;34m\u001b[0m\u001b[0m\n\u001b[1;32m   3893\u001b[0m         \u001b[0;31m# TODO(EA) dispatch to Index\u001b[0m\u001b[0;34m\u001b[0m\u001b[0;34m\u001b[0m\u001b[0;34m\u001b[0m\u001b[0m\n",
      "\u001b[0;32m~/anaconda3/lib/python3.7/site-packages/pandas/core/nanops.py\u001b[0m in \u001b[0;36m_f\u001b[0;34m(*args, **kwargs)\u001b[0m\n\u001b[1;32m     67\u001b[0m             \u001b[0;32mtry\u001b[0m\u001b[0;34m:\u001b[0m\u001b[0;34m\u001b[0m\u001b[0;34m\u001b[0m\u001b[0m\n\u001b[1;32m     68\u001b[0m                 \u001b[0;32mwith\u001b[0m \u001b[0mnp\u001b[0m\u001b[0;34m.\u001b[0m\u001b[0merrstate\u001b[0m\u001b[0;34m(\u001b[0m\u001b[0minvalid\u001b[0m\u001b[0;34m=\u001b[0m\u001b[0;34m\"ignore\"\u001b[0m\u001b[0;34m)\u001b[0m\u001b[0;34m:\u001b[0m\u001b[0;34m\u001b[0m\u001b[0;34m\u001b[0m\u001b[0m\n\u001b[0;32m---> 69\u001b[0;31m                     \u001b[0;32mreturn\u001b[0m \u001b[0mf\u001b[0m\u001b[0;34m(\u001b[0m\u001b[0;34m*\u001b[0m\u001b[0margs\u001b[0m\u001b[0;34m,\u001b[0m \u001b[0;34m**\u001b[0m\u001b[0mkwargs\u001b[0m\u001b[0;34m)\u001b[0m\u001b[0;34m\u001b[0m\u001b[0;34m\u001b[0m\u001b[0m\n\u001b[0m\u001b[1;32m     70\u001b[0m             \u001b[0;32mexcept\u001b[0m \u001b[0mValueError\u001b[0m \u001b[0;32mas\u001b[0m \u001b[0me\u001b[0m\u001b[0;34m:\u001b[0m\u001b[0;34m\u001b[0m\u001b[0;34m\u001b[0m\u001b[0m\n\u001b[1;32m     71\u001b[0m                 \u001b[0;31m# we want to transform an object array\u001b[0m\u001b[0;34m\u001b[0m\u001b[0;34m\u001b[0m\u001b[0;34m\u001b[0m\u001b[0m\n",
      "\u001b[0;31mKeyboardInterrupt\u001b[0m: "
     ]
    }
   ],
   "source": [
    "import jtree_refactored_procedural as jt\n",
    "result_table, tree_marginals = jt.JTree(data_short, verbose=True).synthesize()"
   ]
  },
  {
   "cell_type": "code",
   "execution_count": null,
   "metadata": {},
   "outputs": [],
   "source": []
  }
 ],
 "metadata": {
  "kernelspec": {
   "display_name": "Python 3",
   "language": "python",
   "name": "python3"
  },
  "language_info": {
   "codemirror_mode": {
    "name": "ipython",
    "version": 3
   },
   "file_extension": ".py",
   "mimetype": "text/x-python",
   "name": "python",
   "nbconvert_exporter": "python",
   "pygments_lexer": "ipython3",
   "version": "3.7.7"
  }
 },
 "nbformat": 4,
 "nbformat_minor": 4
}
